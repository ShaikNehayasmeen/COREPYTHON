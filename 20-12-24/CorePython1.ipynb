{
 "cells": [
  {
   "cell_type": "code",
   "execution_count": 16,
   "id": "ef678c52",
   "metadata": {},
   "outputs": [
    {
     "name": "stdout",
     "output_type": "stream",
     "text": [
      "Requirement already satisfied: streamlit in c:\\users\\cvr\\anaconda3\\lib\\site-packages (1.41.1)Note: you may need to restart the kernel to use updated packages.\n",
      "\n",
      "Requirement already satisfied: altair<6,>=4.0 in c:\\users\\cvr\\anaconda3\\lib\\site-packages (from streamlit) (5.5.0)\n",
      "Requirement already satisfied: blinker<2,>=1.0.0 in c:\\users\\cvr\\anaconda3\\lib\\site-packages (from streamlit) (1.9.0)\n",
      "Requirement already satisfied: cachetools<6,>=4.0 in c:\\users\\cvr\\anaconda3\\lib\\site-packages (from streamlit) (5.5.0)\n",
      "Requirement already satisfied: click<9,>=7.0 in c:\\users\\cvr\\anaconda3\\lib\\site-packages (from streamlit) (8.0.4)\n",
      "Requirement already satisfied: numpy<3,>=1.23 in c:\\users\\cvr\\anaconda3\\lib\\site-packages (from streamlit) (1.24.3)\n",
      "Requirement already satisfied: packaging<25,>=20 in c:\\users\\cvr\\anaconda3\\lib\\site-packages (from streamlit) (23.1)\n",
      "Requirement already satisfied: pandas<3,>=1.4.0 in c:\\users\\cvr\\anaconda3\\lib\\site-packages (from streamlit) (2.0.3)\n",
      "Requirement already satisfied: pillow<12,>=7.1.0 in c:\\users\\cvr\\anaconda3\\lib\\site-packages (from streamlit) (9.4.0)\n",
      "Requirement already satisfied: protobuf<6,>=3.20 in c:\\users\\cvr\\anaconda3\\lib\\site-packages (from streamlit) (5.29.2)\n",
      "Requirement already satisfied: pyarrow>=7.0 in c:\\users\\cvr\\anaconda3\\lib\\site-packages (from streamlit) (11.0.0)\n",
      "Requirement already satisfied: requests<3,>=2.27 in c:\\users\\cvr\\anaconda3\\lib\\site-packages (from streamlit) (2.31.0)\n",
      "Requirement already satisfied: rich<14,>=10.14.0 in c:\\users\\cvr\\anaconda3\\lib\\site-packages (from streamlit) (13.9.4)\n",
      "Requirement already satisfied: tenacity<10,>=8.1.0 in c:\\users\\cvr\\anaconda3\\lib\\site-packages (from streamlit) (8.2.2)\n",
      "Requirement already satisfied: toml<2,>=0.10.1 in c:\\users\\cvr\\anaconda3\\lib\\site-packages (from streamlit) (0.10.2)\n",
      "Requirement already satisfied: typing-extensions<5,>=4.3.0 in c:\\users\\cvr\\anaconda3\\lib\\site-packages (from streamlit) (4.12.2)\n",
      "Requirement already satisfied: watchdog<7,>=2.1.5 in c:\\users\\cvr\\anaconda3\\lib\\site-packages (from streamlit) (2.1.6)\n",
      "Requirement already satisfied: gitpython!=3.1.19,<4,>=3.0.7 in c:\\users\\cvr\\anaconda3\\lib\\site-packages (from streamlit) (3.1.43)\n",
      "Requirement already satisfied: pydeck<1,>=0.8.0b4 in c:\\users\\cvr\\anaconda3\\lib\\site-packages (from streamlit) (0.9.1)\n",
      "Requirement already satisfied: tornado<7,>=6.0.3 in c:\\users\\cvr\\anaconda3\\lib\\site-packages (from streamlit) (6.3.2)\n",
      "Requirement already satisfied: jinja2 in c:\\users\\cvr\\anaconda3\\lib\\site-packages (from altair<6,>=4.0->streamlit) (3.1.2)\n",
      "Requirement already satisfied: jsonschema>=3.0 in c:\\users\\cvr\\anaconda3\\lib\\site-packages (from altair<6,>=4.0->streamlit) (4.17.3)\n",
      "Requirement already satisfied: narwhals>=1.14.2 in c:\\users\\cvr\\anaconda3\\lib\\site-packages (from altair<6,>=4.0->streamlit) (1.19.0)\n",
      "Requirement already satisfied: colorama in c:\\users\\cvr\\anaconda3\\lib\\site-packages (from click<9,>=7.0->streamlit) (0.4.6)\n",
      "Requirement already satisfied: gitdb<5,>=4.0.1 in c:\\users\\cvr\\anaconda3\\lib\\site-packages (from gitpython!=3.1.19,<4,>=3.0.7->streamlit) (4.0.11)\n",
      "Requirement already satisfied: python-dateutil>=2.8.2 in c:\\users\\cvr\\anaconda3\\lib\\site-packages (from pandas<3,>=1.4.0->streamlit) (2.8.2)\n",
      "Requirement already satisfied: pytz>=2020.1 in c:\\users\\cvr\\anaconda3\\lib\\site-packages (from pandas<3,>=1.4.0->streamlit) (2023.3.post1)\n",
      "Requirement already satisfied: tzdata>=2022.1 in c:\\users\\cvr\\anaconda3\\lib\\site-packages (from pandas<3,>=1.4.0->streamlit) (2023.3)\n",
      "Requirement already satisfied: charset-normalizer<4,>=2 in c:\\users\\cvr\\anaconda3\\lib\\site-packages (from requests<3,>=2.27->streamlit) (2.0.4)\n",
      "Requirement already satisfied: idna<4,>=2.5 in c:\\users\\cvr\\anaconda3\\lib\\site-packages (from requests<3,>=2.27->streamlit) (3.4)\n",
      "Requirement already satisfied: urllib3<3,>=1.21.1 in c:\\users\\cvr\\anaconda3\\lib\\site-packages (from requests<3,>=2.27->streamlit) (1.26.16)\n",
      "Requirement already satisfied: certifi>=2017.4.17 in c:\\users\\cvr\\anaconda3\\lib\\site-packages (from requests<3,>=2.27->streamlit) (2023.7.22)\n",
      "Requirement already satisfied: markdown-it-py>=2.2.0 in c:\\users\\cvr\\anaconda3\\lib\\site-packages (from rich<14,>=10.14.0->streamlit) (2.2.0)\n",
      "Requirement already satisfied: pygments<3.0.0,>=2.13.0 in c:\\users\\cvr\\anaconda3\\lib\\site-packages (from rich<14,>=10.14.0->streamlit) (2.15.1)\n",
      "Requirement already satisfied: smmap<6,>=3.0.1 in c:\\users\\cvr\\anaconda3\\lib\\site-packages (from gitdb<5,>=4.0.1->gitpython!=3.1.19,<4,>=3.0.7->streamlit) (5.0.1)\n",
      "Requirement already satisfied: MarkupSafe>=2.0 in c:\\users\\cvr\\anaconda3\\lib\\site-packages (from jinja2->altair<6,>=4.0->streamlit) (2.1.1)\n",
      "Requirement already satisfied: attrs>=17.4.0 in c:\\users\\cvr\\anaconda3\\lib\\site-packages (from jsonschema>=3.0->altair<6,>=4.0->streamlit) (22.1.0)\n",
      "Requirement already satisfied: pyrsistent!=0.17.0,!=0.17.1,!=0.17.2,>=0.14.0 in c:\\users\\cvr\\anaconda3\\lib\\site-packages (from jsonschema>=3.0->altair<6,>=4.0->streamlit) (0.18.0)\n",
      "Requirement already satisfied: mdurl~=0.1 in c:\\users\\cvr\\anaconda3\\lib\\site-packages (from markdown-it-py>=2.2.0->rich<14,>=10.14.0->streamlit) (0.1.0)\n",
      "Requirement already satisfied: six>=1.5 in c:\\users\\cvr\\anaconda3\\lib\\site-packages (from python-dateutil>=2.8.2->pandas<3,>=1.4.0->streamlit) (1.16.0)\n"
     ]
    }
   ],
   "source": [
    "pip install streamlit\n"
   ]
  },
  {
   "cell_type": "code",
   "execution_count": 1,
   "id": "8930cc59",
   "metadata": {},
   "outputs": [
    {
     "name": "stderr",
     "output_type": "stream",
     "text": [
      "2024-12-20 09:50:18.804 WARNING streamlit.runtime.scriptrunner_utils.script_run_context: Thread 'MainThread': missing ScriptRunContext! This warning can be ignored when running in bare mode.\n",
      "2024-12-20 09:50:18.954 \n",
      "  \u001b[33m\u001b[1mWarning:\u001b[0m to view this Streamlit app on a browser, run it with the following\n",
      "  command:\n",
      "\n",
      "    streamlit run C:\\Users\\cvr\\anaconda3\\Lib\\site-packages\\ipykernel_launcher.py [ARGUMENTS]\n",
      "2024-12-20 09:50:18.954 Thread 'MainThread': missing ScriptRunContext! This warning can be ignored when running in bare mode.\n",
      "2024-12-20 09:50:18.955 Thread 'MainThread': missing ScriptRunContext! This warning can be ignored when running in bare mode.\n",
      "2024-12-20 09:50:18.955 Thread 'MainThread': missing ScriptRunContext! This warning can be ignored when running in bare mode.\n",
      "2024-12-20 09:50:18.955 Thread 'MainThread': missing ScriptRunContext! This warning can be ignored when running in bare mode.\n",
      "2024-12-20 09:50:18.955 Thread 'MainThread': missing ScriptRunContext! This warning can be ignored when running in bare mode.\n",
      "2024-12-20 09:50:18.956 Thread 'MainThread': missing ScriptRunContext! This warning can be ignored when running in bare mode.\n",
      "2024-12-20 09:50:18.956 Thread 'MainThread': missing ScriptRunContext! This warning can be ignored when running in bare mode.\n",
      "2024-12-20 09:50:18.956 Session state does not function when running a script without `streamlit run`\n",
      "2024-12-20 09:50:18.956 Thread 'MainThread': missing ScriptRunContext! This warning can be ignored when running in bare mode.\n",
      "2024-12-20 09:50:18.957 Thread 'MainThread': missing ScriptRunContext! This warning can be ignored when running in bare mode.\n",
      "2024-12-20 09:50:18.957 Thread 'MainThread': missing ScriptRunContext! This warning can be ignored when running in bare mode.\n",
      "2024-12-20 09:50:18.957 Thread 'MainThread': missing ScriptRunContext! This warning can be ignored when running in bare mode.\n",
      "2024-12-20 09:50:18.957 Thread 'MainThread': missing ScriptRunContext! This warning can be ignored when running in bare mode.\n",
      "2024-12-20 09:50:18.957 Thread 'MainThread': missing ScriptRunContext! This warning can be ignored when running in bare mode.\n",
      "2024-12-20 09:50:18.958 Thread 'MainThread': missing ScriptRunContext! This warning can be ignored when running in bare mode.\n"
     ]
    }
   ],
   "source": [
    "import streamlit as st\n",
    "st.title(\"Sample App\")\n",
    "st.header(\"First program\")\n",
    "num1=st.number_input(\"Enter number\",min_value=1,step=1)\n",
    "if st.button(\"Even/Odd\"):\n",
    "    if num1%2==0:\n",
    "        st.success(\"Even Number\")\n",
    "    else:\n",
    "        st.error(\"Odd Number\")"
   ]
  },
  {
   "cell_type": "code",
   "execution_count": 2,
   "id": "2836ab45",
   "metadata": {},
   "outputs": [
    {
     "ename": "SyntaxError",
     "evalue": "invalid syntax (2145437573.py, line 1)",
     "output_type": "error",
     "traceback": [
      "\u001b[1;36m  Cell \u001b[1;32mIn[2], line 1\u001b[1;36m\u001b[0m\n\u001b[1;33m    streamlit run your_script.py\u001b[0m\n\u001b[1;37m              ^\u001b[0m\n\u001b[1;31mSyntaxError\u001b[0m\u001b[1;31m:\u001b[0m invalid syntax\n"
     ]
    }
   ],
   "source": [
    "streamlit run your_script.py\n"
   ]
  },
  {
   "cell_type": "code",
   "execution_count": 5,
   "id": "3ddb808d",
   "metadata": {},
   "outputs": [
    {
     "name": "stdout",
     "output_type": "stream",
     "text": [
      "Function\n"
     ]
    }
   ],
   "source": [
    "def add():\n",
    "    print(\"Function\")\n",
    "add()"
   ]
  },
  {
   "cell_type": "code",
   "execution_count": 7,
   "id": "d5fd9be4",
   "metadata": {},
   "outputs": [
    {
     "name": "stdout",
     "output_type": "stream",
     "text": [
      "Function2\n"
     ]
    },
    {
     "data": {
      "text/plain": [
       "'NehaShaik'"
      ]
     },
     "execution_count": 7,
     "metadata": {},
     "output_type": "execute_result"
    }
   ],
   "source": [
    "def add():\n",
    "    print(\"Function2\")\n",
    "    return \"NehaShaik\"\n",
    "add()"
   ]
  },
  {
   "cell_type": "code",
   "execution_count": 31,
   "id": "e91e3fba",
   "metadata": {},
   "outputs": [
    {
     "name": "stdout",
     "output_type": "stream",
     "text": [
      "Enter your passwordNehaShaik#12\n",
      "Great,It's a Strong Password\n"
     ]
    }
   ],
   "source": [
    "import re\n",
    "def check_password(password):\n",
    "    pattern = r'[^a-zA-Z0-9]'\n",
    "    if \" \" in password:\n",
    "        return \"Should not contain white spaces\"\n",
    "    if len(password)<=10 or len(password)>15:\n",
    "        return \"password should contain between 10 to 15 charcaters\"\n",
    "    elif not any(char.isupper() for char in password):\n",
    "        return \"Atleast one uppercase character\"\n",
    "    elif not any(char.islower() for char in password):\n",
    "        return \"Atleast one lowercase character\"\n",
    "    elif not any(char.isdigit() for char in password):\n",
    "        return \"Should contain atleast one number\"\n",
    "    elif not any(re.search(pattern, char) for char in password):\n",
    "        return \"Should contain at least one special character.\"\n",
    "    elif password[-1]=='.' or password[-1]=='@':\n",
    "        return \"should not end with dot and @\"\n",
    "    else:\n",
    "        return \"Great,It's a Strong Password\"\n",
    "\n",
    "    \n",
    "password=input(\"Enter your password\")\n",
    "print(check_password(password))"
   ]
  },
  {
   "cell_type": "code",
   "execution_count": null,
   "id": "dd3245e4",
   "metadata": {},
   "outputs": [],
   "source": [
    "def claculate_bmi(weight,height):\n",
    "    bmi="
   ]
  },
  {
   "cell_type": "code",
   "execution_count": 41,
   "id": "9f8ee5de",
   "metadata": {},
   "outputs": [
    {
     "name": "stdout",
     "output_type": "stream",
     "text": [
      "Enter the number3\n",
      "entered number is not prime\n"
     ]
    }
   ],
   "source": [
    "def prime(number):\n",
    "    if number<2:\n",
    "        return \"Not a prime number\"\n",
    "    for i in range(2,number):\n",
    "        if number%i==0:\n",
    "            return \"entered number is not prime\"\n",
    "    return \"Entered number is a prime number\"\n",
    "number=int(input(\"Enter the number\"))\n",
    "print(prime(number))\n"
   ]
  },
  {
   "cell_type": "code",
   "execution_count": 4,
   "id": "bd93d74c",
   "metadata": {},
   "outputs": [
    {
     "name": "stdout",
     "output_type": "stream",
     "text": [
      "Enter the number3\n",
      "6\n"
     ]
    }
   ],
   "source": [
    "def factorial(number):\n",
    "    result=1\n",
    "    \n",
    "    if number<0:\n",
    "        return \"Can't define for negative numbers\"\n",
    "    for i in range(1,number+1):\n",
    "        result*=i\n",
    "    return result\n",
    "   \n",
    "    \n",
    "number=int(input(\"Enter the number\"))\n",
    "print(factorial(number))"
   ]
  },
  {
   "cell_type": "code",
   "execution_count": 49,
   "id": "b9f41bbb",
   "metadata": {},
   "outputs": [
    {
     "name": "stdout",
     "output_type": "stream",
     "text": [
      "[1, 2, 3, 4, 5]\n"
     ]
    },
    {
     "ename": "IndexError",
     "evalue": "list index out of range",
     "output_type": "error",
     "traceback": [
      "\u001b[1;31m---------------------------------------------------------------------------\u001b[0m",
      "\u001b[1;31mIndexError\u001b[0m                                Traceback (most recent call last)",
      "Cell \u001b[1;32mIn[49], line 5\u001b[0m\n\u001b[0;32m      3\u001b[0m b\u001b[38;5;241m=\u001b[39m[\u001b[38;5;241m5\u001b[39m,\u001b[38;5;241m6\u001b[39m,\u001b[38;5;241m7\u001b[39m]\n\u001b[0;32m      4\u001b[0m a\u001b[38;5;241m.\u001b[39mappend(b)\n\u001b[1;32m----> 5\u001b[0m \u001b[38;5;28mprint\u001b[39m(a[\u001b[38;5;241m6\u001b[39m])\n",
      "\u001b[1;31mIndexError\u001b[0m: list index out of range"
     ]
    }
   ],
   "source": [
    "a=[1,2,3,4,5]\n",
    "print(a)\n",
    "b=[5,6,7]\n",
    "a.append(b)\n",
    "print(a[6])"
   ]
  },
  {
   "cell_type": "code",
   "execution_count": 44,
   "id": "56a16ade",
   "metadata": {},
   "outputs": [
    {
     "ename": "IndexError",
     "evalue": "list index out of range",
     "output_type": "error",
     "traceback": [
      "\u001b[1;31m---------------------------------------------------------------------------\u001b[0m",
      "\u001b[1;31mIndexError\u001b[0m                                Traceback (most recent call last)",
      "Cell \u001b[1;32mIn[44], line 1\u001b[0m\n\u001b[1;32m----> 1\u001b[0m \u001b[38;5;28mprint\u001b[39m(a[\u001b[38;5;241m6\u001b[39m])\n",
      "\u001b[1;31mIndexError\u001b[0m: list index out of range"
     ]
    }
   ],
   "source": [
    "print(a[6])\n"
   ]
  },
  {
   "cell_type": "code",
   "execution_count": 45,
   "id": "995ca7c1",
   "metadata": {},
   "outputs": [
    {
     "ename": "IndexError",
     "evalue": "list index out of range",
     "output_type": "error",
     "traceback": [
      "\u001b[1;31m---------------------------------------------------------------------------\u001b[0m",
      "\u001b[1;31mIndexError\u001b[0m                                Traceback (most recent call last)",
      "Cell \u001b[1;32mIn[45], line 1\u001b[0m\n\u001b[1;32m----> 1\u001b[0m \u001b[38;5;28mprint\u001b[39m(a[\u001b[38;5;241m5\u001b[39m])\n",
      "\u001b[1;31mIndexError\u001b[0m: list index out of range"
     ]
    }
   ],
   "source": [
    "print(a[5])"
   ]
  },
  {
   "cell_type": "code",
   "execution_count": 53,
   "id": "5b7fc969",
   "metadata": {},
   "outputs": [
    {
     "name": "stdout",
     "output_type": "stream",
     "text": [
      "dict_values(['Neha', 88, 6688])\n"
     ]
    }
   ],
   "source": [
    "dict1={\n",
    "    \"name\":\"Neha\",\n",
    "    \"roll\":88,\n",
    "    \n",
    "    66:6688\n",
    "}\n",
    "print(dict1.values())"
   ]
  },
  {
   "cell_type": "code",
   "execution_count": 69,
   "id": "2894f073",
   "metadata": {},
   "outputs": [
    {
     "name": "stdout",
     "output_type": "stream",
     "text": [
      "Oroginal Amount is : 190000\n",
      "Discount amount is : 28500.0\n",
      "The final Price is : 161500.0\n"
     ]
    }
   ],
   "source": [
    "def sum(laptops):\n",
    "    total=0\n",
    "    for price in laptops.values():\n",
    "        if price >= 25000:\n",
    "            total+=price\n",
    "    original=total\n",
    "  \n",
    "    if total>=20000 and total<50000:\n",
    "        total=0.9*total\n",
    "       \n",
    "    elif total>=50000:\n",
    "        total=0.15*total\n",
    "    return original, total\n",
    "\n",
    "laptops={\"Asus\":90000,\"hp\":5000,\"Mac\":100000}\n",
    "original,discount=sum(laptops)\n",
    "final_Amount=original-discount\n",
    "print(f\"Oroginal Amount is : {original}\")\n",
    "print(f\"Discount amount is : {discount}\")\n",
    "print(f\"The final Price is : {final_Amount}\")\n",
    "\n"
   ]
  },
  {
   "cell_type": "code",
   "execution_count": 2,
   "id": "0fa0d566",
   "metadata": {},
   "outputs": [
    {
     "name": "stdout",
     "output_type": "stream",
     "text": [
      "Neha88\n"
     ]
    }
   ],
   "source": [
    "print(\"Neha88\")"
   ]
  },
  {
   "cell_type": "code",
   "execution_count": 8,
   "id": "7fb5a83e",
   "metadata": {},
   "outputs": [
    {
     "name": "stdout",
     "output_type": "stream",
     "text": [
      "Enter your StringNun\n",
      "Entered String is Palindrome\n"
     ]
    }
   ],
   "source": [
    "def isPalindrome(String):\n",
    "    if String is None:\n",
    "        return \"String is null\"\n",
    "    String=String.lower()\n",
    "    if String==String[::-1]:\n",
    "        return \"Entered String is Palindrome\"\n",
    "    else:\n",
    "        return \"Not Palindrome String\"\n",
    "String=input(\"Enter your String\")\n",
    "print(isPalindrome(String))\n"
   ]
  },
  {
   "cell_type": "code",
   "execution_count": null,
   "id": "92681857",
   "metadata": {},
   "outputs": [],
   "source": []
  }
 ],
 "metadata": {
  "kernelspec": {
   "display_name": "Python 3 (ipykernel)",
   "language": "python",
   "name": "python3"
  },
  "language_info": {
   "codemirror_mode": {
    "name": "ipython",
    "version": 3
   },
   "file_extension": ".py",
   "mimetype": "text/x-python",
   "name": "python",
   "nbconvert_exporter": "python",
   "pygments_lexer": "ipython3",
   "version": "3.11.5"
  }
 },
 "nbformat": 4,
 "nbformat_minor": 5
}
