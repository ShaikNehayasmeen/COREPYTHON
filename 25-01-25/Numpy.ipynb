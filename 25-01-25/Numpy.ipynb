{
 "cells": [
  {
   "cell_type": "code",
   "execution_count": 1,
   "id": "e8e43860",
   "metadata": {},
   "outputs": [
    {
     "name": "stdout",
     "output_type": "stream",
     "text": [
      "Requirement already satisfied: numpy in c:\\users\\cvr\\anaconda3\\lib\\site-packages (1.24.3)\n",
      "Note: you may need to restart the kernel to use updated packages.\n"
     ]
    }
   ],
   "source": [
    "pip install numpy"
   ]
  },
  {
   "cell_type": "code",
   "execution_count": 2,
   "id": "f998739a",
   "metadata": {},
   "outputs": [],
   "source": [
    "import numpy as np"
   ]
  },
  {
   "cell_type": "code",
   "execution_count": 7,
   "id": "286aeebf",
   "metadata": {},
   "outputs": [
    {
     "name": "stdout",
     "output_type": "stream",
     "text": [
      "[1 2 3]\n",
      "\n",
      "[[1 2 3]\n",
      " [4 5 6]]\n"
     ]
    }
   ],
   "source": [
    "#Declare&print Arrays\n",
    "arr_1d=np.array([1,2,3])\n",
    "print(arr_1d)\n",
    "print()\n",
    "arr_2d=np.array([[1,2,3],[4,5,6]])\n",
    "print(arr_2d)"
   ]
  },
  {
   "cell_type": "code",
   "execution_count": 8,
   "id": "3fcd89c3",
   "metadata": {},
   "outputs": [
    {
     "name": "stdout",
     "output_type": "stream",
     "text": [
      "[[0. 0. 0.]\n",
      " [0. 0. 0.]]\n"
     ]
    }
   ],
   "source": [
    "#0's Matrix\n",
    "zeros=np.zeros((2,3))\n",
    "print(zeros)"
   ]
  },
  {
   "cell_type": "code",
   "execution_count": 9,
   "id": "3080bb4f",
   "metadata": {},
   "outputs": [
    {
     "name": "stdout",
     "output_type": "stream",
     "text": [
      "[[1. 1. 1.]\n",
      " [1. 1. 1.]]\n"
     ]
    }
   ],
   "source": [
    "#1's Matrix\n",
    "ones=np.ones((2,3))\n",
    "print(ones)"
   ]
  },
  {
   "cell_type": "code",
   "execution_count": 11,
   "id": "2df0d052",
   "metadata": {},
   "outputs": [
    {
     "data": {
      "text/plain": [
       "array([[8.92160897e-01, 2.13090947e-01, 4.71537937e-01, 9.19159499e-01,\n",
       "        1.57375633e-01, 5.24149603e-01, 5.56935927e-02, 2.32058136e-01,\n",
       "        3.54465726e-01, 4.29072044e-01, 3.57593085e-01, 1.20163721e-01,\n",
       "        8.58829269e-01, 2.38848316e-01, 2.70913814e-01, 2.55900143e-01,\n",
       "        1.96845674e-03, 7.42931559e-01, 6.55362743e-01, 3.70839693e-01,\n",
       "        5.10223857e-01, 8.47870867e-01, 3.35365193e-02, 1.43201053e-01,\n",
       "        4.06425117e-01],\n",
       "       [8.23931970e-01, 4.80370724e-01, 6.29573766e-01, 7.39254748e-01,\n",
       "        5.53744679e-01, 2.29073066e-01, 7.88664399e-01, 7.61874646e-01,\n",
       "        8.87994993e-01, 9.48558815e-02, 2.48393537e-01, 6.08883765e-01,\n",
       "        3.05523599e-02, 7.35319196e-01, 7.02023212e-01, 6.44327562e-01,\n",
       "        4.74660481e-01, 7.69167530e-01, 3.05089859e-01, 6.28209035e-01,\n",
       "        9.52341207e-01, 5.98354600e-01, 3.46334050e-01, 2.91101995e-01,\n",
       "        8.50848501e-01],\n",
       "       [1.95008899e-02, 4.91968943e-01, 1.04615429e-01, 7.75930366e-01,\n",
       "        5.27402530e-01, 5.89389693e-01, 4.45635633e-01, 1.54234516e-01,\n",
       "        9.90622337e-01, 5.95091216e-01, 7.30230166e-01, 2.14195526e-01,\n",
       "        1.39234884e-02, 6.90533063e-01, 4.12596997e-01, 2.68387527e-01,\n",
       "        7.34863178e-01, 4.84937206e-01, 1.98307138e-01, 9.50448898e-01,\n",
       "        5.87766225e-01, 5.04364205e-01, 9.53357673e-01, 5.78470143e-01,\n",
       "        5.76177576e-01],\n",
       "       [8.65877866e-01, 5.20514422e-01, 8.16034055e-01, 1.13613054e-02,\n",
       "        8.15998347e-02, 9.85762346e-01, 5.46463302e-01, 7.01881580e-02,\n",
       "        8.89667013e-01, 4.47160038e-01, 7.58642003e-01, 7.56701975e-01,\n",
       "        3.61856315e-01, 8.43324364e-01, 8.32501867e-01, 2.12929589e-01,\n",
       "        7.68842141e-01, 5.19058106e-01, 2.89720707e-01, 6.09124307e-01,\n",
       "        4.41632259e-01, 9.77399642e-01, 3.90686353e-01, 2.18837469e-01,\n",
       "        4.94381041e-01],\n",
       "       [1.82367586e-01, 2.67411394e-02, 4.60782577e-01, 4.38460591e-01,\n",
       "        5.00862134e-01, 4.67770056e-01, 1.97070299e-01, 6.84535198e-01,\n",
       "        5.24674495e-01, 8.74102133e-01, 5.73134731e-01, 8.72550387e-01,\n",
       "        5.05138160e-01, 2.59078402e-01, 8.15774307e-01, 4.89448015e-01,\n",
       "        1.77044588e-01, 6.82447805e-01, 1.44242043e-01, 1.86035606e-01,\n",
       "        2.72232607e-01, 9.90170761e-01, 4.56538580e-01, 2.64915530e-01,\n",
       "        6.65912410e-02],\n",
       "       [2.09909502e-01, 6.63050745e-01, 6.21147505e-01, 5.34332682e-01,\n",
       "        2.70453227e-02, 7.47757488e-01, 2.51008304e-01, 1.32804432e-01,\n",
       "        1.76859483e-02, 3.13127574e-01, 9.24733828e-01, 8.04229826e-01,\n",
       "        8.84928217e-01, 5.05763998e-01, 1.73423625e-01, 7.37198589e-01,\n",
       "        1.86332166e-01, 7.52267562e-01, 7.75066195e-01, 2.37036720e-01,\n",
       "        2.51900336e-01, 3.36475363e-01, 3.58804988e-01, 9.47360276e-01,\n",
       "        5.66840437e-01],\n",
       "       [5.36229506e-01, 2.53969190e-01, 8.52073317e-01, 8.84356584e-01,\n",
       "        2.59359534e-01, 8.05878405e-01, 2.31026968e-01, 3.78179689e-01,\n",
       "        4.12002777e-01, 8.77600941e-01, 3.60950682e-01, 6.28539658e-01,\n",
       "        8.88356699e-01, 1.27271314e-01, 6.84089451e-02, 9.77983114e-02,\n",
       "        4.43697404e-01, 1.07820746e-01, 9.21098221e-02, 1.35421726e-01,\n",
       "        5.23489096e-01, 7.29257759e-01, 8.92864322e-01, 6.31264827e-01,\n",
       "        6.12706370e-01],\n",
       "       [9.14129523e-01, 6.65123177e-01, 4.49742961e-01, 7.92684800e-01,\n",
       "        3.22831967e-01, 3.23987688e-02, 5.71752271e-02, 8.12128909e-02,\n",
       "        7.16117246e-01, 8.57437815e-01, 5.22912321e-01, 1.24854420e-02,\n",
       "        5.06456302e-01, 9.15852051e-01, 6.16403009e-01, 8.23993246e-01,\n",
       "        8.21407484e-01, 9.75401942e-01, 1.63773413e-01, 6.65324414e-01,\n",
       "        8.48843324e-01, 8.01813399e-01, 6.91019453e-02, 5.69377570e-01,\n",
       "        5.00256012e-01],\n",
       "       [5.25352644e-01, 4.25056098e-01, 3.71392745e-01, 3.14941077e-01,\n",
       "        8.85327039e-01, 1.97092948e-01, 5.77049251e-01, 2.78488459e-01,\n",
       "        3.22952614e-02, 2.34046797e-01, 8.61650746e-01, 5.69686081e-01,\n",
       "        3.11156602e-02, 5.48121074e-01, 7.48338462e-01, 1.56175845e-01,\n",
       "        9.66010905e-01, 7.93946686e-01, 8.87556922e-02, 5.19463376e-02,\n",
       "        3.90297765e-01, 7.90906520e-01, 1.19526450e-01, 6.73958271e-01,\n",
       "        3.09014327e-01],\n",
       "       [4.04958743e-02, 7.27691837e-03, 2.81448002e-01, 6.74091297e-01,\n",
       "        1.69063090e-01, 8.92552301e-01, 1.99449225e-01, 3.49394729e-01,\n",
       "        9.15601600e-01, 8.17064341e-01, 9.97361635e-01, 6.92992998e-01,\n",
       "        1.81339408e-03, 2.26159530e-02, 8.99308044e-01, 4.42315773e-01,\n",
       "        9.49365973e-01, 9.00440225e-02, 9.47153604e-01, 3.43273605e-01,\n",
       "        6.52276567e-01, 6.92674964e-01, 9.71377269e-01, 8.56461542e-02,\n",
       "        3.07033225e-01],\n",
       "       [1.49407443e-01, 8.21758718e-01, 9.02356395e-01, 1.84118454e-01,\n",
       "        4.01975629e-02, 4.34710659e-01, 8.09611380e-01, 9.68259659e-01,\n",
       "        7.97418426e-01, 4.96742453e-01, 5.21617111e-01, 8.80248235e-01,\n",
       "        7.93147369e-01, 1.19252762e-01, 2.49224431e-02, 6.55092161e-01,\n",
       "        3.20979177e-01, 7.43849738e-01, 3.95999942e-01, 3.50825985e-01,\n",
       "        5.37195142e-01, 6.21564585e-01, 6.07436329e-01, 3.00829581e-01,\n",
       "        4.24492027e-01],\n",
       "       [4.85938839e-01, 9.78222506e-02, 9.70809331e-01, 1.58793125e-02,\n",
       "        8.81192783e-01, 4.67196929e-02, 6.76601286e-01, 8.08660780e-01,\n",
       "        6.86216558e-01, 5.90392410e-01, 7.53046859e-01, 4.67027663e-01,\n",
       "        6.44007733e-01, 2.92673242e-01, 7.86825185e-01, 6.49867819e-01,\n",
       "        8.29062855e-01, 1.01369785e-02, 8.11626553e-01, 3.99451024e-01,\n",
       "        6.00790975e-01, 5.89319704e-01, 4.53858351e-01, 4.34640986e-01,\n",
       "        3.39372551e-01],\n",
       "       [5.97709415e-01, 6.79129142e-01, 6.57202047e-01, 5.15715638e-01,\n",
       "        7.36262905e-01, 3.38843140e-01, 9.23683421e-01, 1.65828155e-01,\n",
       "        8.21809345e-02, 1.39803320e-01, 2.33832971e-01, 5.04475099e-01,\n",
       "        2.82224511e-02, 8.29702534e-01, 6.07690082e-01, 3.84647577e-01,\n",
       "        3.54632681e-01, 4.02642709e-01, 8.34086462e-02, 5.67269355e-01,\n",
       "        6.90864951e-01, 9.57400890e-01, 6.26513248e-01, 7.13933496e-01,\n",
       "        2.74338263e-02],\n",
       "       [3.63664968e-01, 9.43375076e-04, 4.13960918e-01, 6.91567458e-01,\n",
       "        6.48047578e-01, 7.83237030e-01, 2.21672458e-01, 3.97992047e-01,\n",
       "        1.25769424e-01, 3.00858031e-01, 4.42543544e-01, 9.51384033e-01,\n",
       "        4.50826361e-01, 9.04455617e-01, 5.75892431e-03, 9.27544160e-01,\n",
       "        1.87663089e-02, 8.50166907e-01, 5.31069397e-01, 4.77805585e-01,\n",
       "        8.82731819e-02, 3.54590442e-01, 7.50030164e-01, 7.85211865e-01,\n",
       "        9.42884559e-01],\n",
       "       [5.01619590e-01, 7.77885718e-01, 7.87406538e-01, 6.50317819e-01,\n",
       "        5.26841426e-01, 9.23953504e-01, 6.05118947e-01, 3.88694396e-01,\n",
       "        2.02564435e-01, 7.39094216e-01, 6.18837951e-01, 1.32214078e-01,\n",
       "        1.82126685e-01, 8.14301811e-02, 3.20889277e-01, 4.58964596e-01,\n",
       "        5.06451821e-01, 8.03597428e-01, 2.68024983e-01, 9.79711318e-01,\n",
       "        4.64048728e-01, 4.16195166e-01, 7.78857593e-01, 3.54176999e-01,\n",
       "        9.44621027e-01],\n",
       "       [5.88153522e-01, 5.01712497e-01, 4.53293893e-02, 3.76246195e-01,\n",
       "        6.12233401e-01, 9.26457685e-01, 1.04026610e-01, 7.94792822e-01,\n",
       "        8.80566732e-02, 5.52435218e-01, 6.33760597e-01, 7.71757705e-01,\n",
       "        2.91859872e-02, 6.28626035e-01, 5.95204349e-01, 8.78620650e-01,\n",
       "        4.59020292e-01, 7.23725099e-01, 3.33705511e-01, 9.17937403e-01,\n",
       "        2.02284365e-01, 5.09612937e-01, 1.68985218e-01, 7.44947670e-01,\n",
       "        9.49293527e-01],\n",
       "       [5.18192254e-01, 8.42544122e-01, 5.83997157e-02, 1.27711013e-01,\n",
       "        1.85982862e-02, 6.04634675e-01, 5.89751686e-01, 3.17899253e-01,\n",
       "        4.20536026e-01, 6.59100153e-01, 1.65023246e-01, 1.23385445e-01,\n",
       "        4.31086343e-01, 7.52735223e-01, 2.18691870e-01, 5.68826343e-01,\n",
       "        8.95945741e-01, 9.48029664e-01, 6.59784111e-01, 9.62438534e-01,\n",
       "        3.15986251e-01, 4.26810317e-01, 7.62136998e-01, 5.25347463e-01,\n",
       "        2.27019434e-01],\n",
       "       [9.99829457e-01, 4.06072276e-01, 1.92919882e-01, 8.71114967e-02,\n",
       "        9.20611812e-01, 9.24395548e-01, 6.46601480e-01, 3.99085105e-01,\n",
       "        6.58314318e-01, 9.96128535e-01, 6.21958276e-02, 3.31683413e-01,\n",
       "        6.30542957e-01, 8.38241328e-01, 8.83043518e-02, 7.07030650e-01,\n",
       "        1.38803907e-01, 7.55520826e-01, 8.16905766e-01, 8.19135362e-01,\n",
       "        6.54374431e-01, 6.41430658e-01, 3.40140106e-01, 5.17557828e-01,\n",
       "        5.47041456e-01],\n",
       "       [2.29709729e-01, 4.06760599e-01, 5.99811537e-02, 6.11944097e-01,\n",
       "        2.77662915e-01, 8.57982575e-01, 8.62207938e-01, 9.63055702e-01,\n",
       "        3.26402071e-01, 5.71237119e-01, 2.33929167e-01, 6.16140243e-01,\n",
       "        4.41644737e-01, 6.86875534e-01, 7.06162739e-01, 6.74789400e-01,\n",
       "        7.30564335e-01, 4.17120659e-01, 6.33027006e-02, 3.89885930e-01,\n",
       "        2.76856537e-01, 6.70374764e-01, 1.95495512e-01, 6.22549230e-01,\n",
       "        7.21299714e-01],\n",
       "       [7.09250920e-01, 2.82026465e-01, 1.39572192e-01, 2.21661547e-01,\n",
       "        1.01558844e-01, 9.64366890e-01, 9.25733137e-01, 6.08395136e-01,\n",
       "        3.68254875e-01, 8.48620458e-01, 3.64570115e-04, 9.98088418e-01,\n",
       "        4.00953270e-01, 4.29836217e-01, 3.96234771e-01, 2.35793049e-01,\n",
       "        1.33772137e-01, 7.08773546e-01, 5.39203008e-01, 6.81190921e-01,\n",
       "        7.11802428e-01, 3.07350010e-01, 6.32543646e-01, 6.86386239e-01,\n",
       "        6.56246801e-01],\n",
       "       [8.60855728e-01, 5.28856750e-01, 7.95095442e-01, 7.30511517e-01,\n",
       "        3.36368062e-01, 7.65672859e-01, 5.82255332e-01, 8.26678085e-01,\n",
       "        1.08037797e-01, 6.21854749e-01, 7.74818097e-01, 6.11794939e-01,\n",
       "        7.64432183e-01, 6.79202697e-01, 3.53830451e-01, 3.23038316e-01,\n",
       "        5.46255028e-01, 1.88127929e-01, 4.33344933e-01, 4.67477229e-01,\n",
       "        2.29417234e-01, 1.50287975e-01, 5.24860303e-01, 2.29964398e-01,\n",
       "        2.67306247e-01],\n",
       "       [1.85665859e-01, 5.61712368e-01, 6.85570205e-01, 3.23818480e-02,\n",
       "        8.94853214e-02, 1.17958736e-01, 1.45331719e-01, 1.84898297e-01,\n",
       "        6.97601030e-01, 1.14220207e-01, 6.81578065e-01, 8.62888935e-01,\n",
       "        3.02818192e-03, 7.46694896e-01, 4.34864944e-01, 7.18758420e-01,\n",
       "        6.56546454e-01, 8.02501103e-01, 1.14871445e-01, 1.02067967e-03,\n",
       "        2.25150547e-01, 3.19962481e-01, 8.19628813e-02, 1.16112569e-01,\n",
       "        5.29155121e-01],\n",
       "       [7.31445441e-02, 7.65768032e-01, 9.79463165e-01, 5.63640105e-01,\n",
       "        9.01103110e-01, 8.86343624e-01, 1.89085206e-01, 1.29340900e-01,\n",
       "        1.55605171e-01, 3.92060576e-01, 8.30770756e-01, 5.30253203e-01,\n",
       "        8.54916020e-01, 5.68939287e-01, 5.60142323e-01, 8.11009445e-01,\n",
       "        9.56471381e-01, 9.56251110e-01, 5.73654166e-01, 3.85031398e-01,\n",
       "        7.09283679e-02, 2.01236372e-02, 1.78651903e-01, 4.00084462e-01,\n",
       "        9.93961804e-01],\n",
       "       [7.52576255e-01, 7.16353801e-01, 6.41667363e-01, 4.31879940e-01,\n",
       "        9.13533607e-01, 1.59591923e-01, 5.44363988e-01, 8.12821076e-01,\n",
       "        6.00535341e-01, 4.37195162e-01, 9.17644828e-01, 9.53863932e-01,\n",
       "        7.63257664e-01, 4.51780644e-01, 9.53841492e-02, 5.86576289e-01,\n",
       "        5.36290036e-01, 2.15870991e-02, 2.18976275e-01, 3.98699904e-01,\n",
       "        8.72808387e-01, 1.39322115e-01, 2.76279144e-02, 4.18324787e-01,\n",
       "        2.18047591e-01],\n",
       "       [8.00057271e-01, 4.86807486e-01, 7.54412339e-01, 2.24765187e-01,\n",
       "        8.89651351e-01, 1.05557319e-01, 5.28429999e-01, 3.92415516e-01,\n",
       "        2.42285210e-01, 6.67457766e-01, 3.51848178e-01, 7.28102265e-01,\n",
       "        9.98173971e-01, 2.86185346e-02, 1.62070318e-01, 9.90309017e-02,\n",
       "        4.90877355e-01, 8.14150266e-01, 6.42768055e-01, 1.95467146e-01,\n",
       "        1.64695250e-01, 1.28932080e-01, 2.64178391e-01, 5.77329593e-01,\n",
       "        3.46138455e-01]])"
      ]
     },
     "execution_count": 11,
     "metadata": {},
     "output_type": "execute_result"
    }
   ],
   "source": [
    "#Random Matrix\n",
    "random=np.random.random((25,25))\n",
    "random"
   ]
  },
  {
   "cell_type": "code",
   "execution_count": 12,
   "id": "c743bccf",
   "metadata": {},
   "outputs": [
    {
     "name": "stdout",
     "output_type": "stream",
     "text": [
      "[[1. 0. 0. 0.]\n",
      " [0. 1. 0. 0.]\n",
      " [0. 0. 1. 0.]\n",
      " [0. 0. 0. 1.]]\n"
     ]
    }
   ],
   "source": [
    "#Identity Matrix\n",
    "Identity=np.eye(4)\n",
    "print(Identity)"
   ]
  },
  {
   "cell_type": "code",
   "execution_count": 14,
   "id": "51479e34",
   "metadata": {},
   "outputs": [
    {
     "name": "stdout",
     "output_type": "stream",
     "text": [
      "[0 2 4 6 8]\n"
     ]
    }
   ],
   "source": [
    "#Array with range of values\n",
    "Array_range=np.arange(0,10,2)\n",
    "print(Array_range)\n"
   ]
  },
  {
   "cell_type": "code",
   "execution_count": 15,
   "id": "cf3c32e9",
   "metadata": {},
   "outputs": [
    {
     "name": "stdout",
     "output_type": "stream",
     "text": [
      "Shape (2, 3)\n",
      "Size of the Array 6\n",
      "Data type int32\n",
      "Number of dimensions 2\n"
     ]
    }
   ],
   "source": [
    "Array=np.array([[1,2,3],[4,5,6]])\n",
    "print(\"Shape\",Array.shape)\n",
    "print(\"Size of the Array\",Array.size)\n",
    "print(\"Data type\",Array.dtype)\n",
    "print(\"Number of dimensions\",Array.ndim)"
   ]
  },
  {
   "cell_type": "code",
   "execution_count": 18,
   "id": "44f889e8",
   "metadata": {},
   "outputs": [
    {
     "name": "stdout",
     "output_type": "stream",
     "text": [
      "2\n",
      "\n",
      "5\n",
      "\n",
      "6\n"
     ]
    }
   ],
   "source": [
    "print(Array[0,1])\n",
    "print()\n",
    "print(Array[1,1])\n",
    "print()\n",
    "print(Array[1,-1])"
   ]
  },
  {
   "cell_type": "code",
   "execution_count": 19,
   "id": "e9a2bf6f",
   "metadata": {},
   "outputs": [
    {
     "name": "stdout",
     "output_type": "stream",
     "text": [
      "[[2 3]\n",
      " [5 6]]\n"
     ]
    }
   ],
   "source": [
    "result = Array[:, 1:3]\n",
    "print(result)"
   ]
  },
  {
   "cell_type": "code",
   "execution_count": 28,
   "id": "eebc5746",
   "metadata": {},
   "outputs": [
    {
     "name": "stdout",
     "output_type": "stream",
     "text": [
      "[1 2 3]\n",
      "\n",
      "[4 5 6]\n",
      "[5 7 9]\n",
      "\n",
      "[-3 -3 -3]\n",
      "\n",
      "[ 4 10 18]\n",
      "\n",
      "[0.25 0.4  0.5 ]\n"
     ]
    }
   ],
   "source": [
    "A=np.array([1,2,3])\n",
    "print(A)\n",
    "print()\n",
    "B=np.array([4,5,6])\n",
    "print(B)\n",
    "print(A+B)\n",
    "print()\n",
    "print(A-B)\n",
    "print()\n",
    "print(A*B)\n",
    "print()\n",
    "print(A/B)\n"
   ]
  },
  {
   "cell_type": "code",
   "execution_count": 35,
   "id": "0076eee5",
   "metadata": {},
   "outputs": [
    {
     "name": "stdout",
     "output_type": "stream",
     "text": [
      "[[1 2 3]\n",
      " [4 5 6]\n",
      " [7 8 9]]\n",
      "\n",
      "[[10 11 12]\n",
      " [13 14 15]\n",
      " [16 17 18]]\n",
      "\n"
     ]
    },
    {
     "data": {
      "text/plain": [
       "[<matplotlib.lines.Line2D at 0x1ea7bc46e10>]"
      ]
     },
     "execution_count": 35,
     "metadata": {},
     "output_type": "execute_result"
    },
    {
     "data": {
      "image/png": "[encoded data removed]",
      "text/plain": [
       "<Figure size 640x480 with 1 Axes>"
      ]
     },
     "metadata": {},
     "output_type": "display_data"
    }
   ],
   "source": [
    "import matplotlib.pyplot as plt\n",
    "C=np.array([[1,2,3],[4,5,6],[7,8,9]]) \n",
    "D=np.array([[10,11,12],[13,14,15],[16,17,18]]) \n",
    "print(C) \n",
    "print() \n",
    "print(D) \n",
    "print()\n",
    "result=C*D\n",
    "result1=result.flatten()\n",
    "\n",
    "plt.plot(result1)"
   ]
  },
  {
   "cell_type": "markdown",
   "id": "0d3b4f84",
   "metadata": {},
   "source": [
    "C=np.array([[1,2,3],[4,5,6],[7,8,9]])\n",
    "D=np.array([[10,11,12],[13,14,15],[16,17,18]])\n",
    "print(C)\n",
    "print()\n",
    "print(D)\n",
    "print(C*D)"
   ]
  },
  {
   "cell_type": "code",
   "execution_count": null,
   "id": "1e85eff4",
   "metadata": {},
   "outputs": [],
   "source": []
  },
  {
   "cell_type": "code",
   "execution_count": 31,
   "id": "cba1ca50",
   "metadata": {},
   "outputs": [
    {
     "name": "stdout",
     "output_type": "stream",
     "text": [
      "[[19 22]\n",
      " [43 50]]\n"
     ]
    }
   ],
   "source": [
    "Matrix1=np.array([[1,2],[3,4]])\n",
    "Matrix2=np.array([[5,6],[7,8]])\n",
    "result=np.dot(Matrix1,Matrix2)\n",
    "print(result)"
   ]
  },
  {
   "cell_type": "code",
   "execution_count": 36,
   "id": "8baba7b4",
   "metadata": {},
   "outputs": [
    {
     "name": "stdout",
     "output_type": "stream",
     "text": [
      "[ 2.71828183  7.3890561  20.08553692]\n",
      "[1.         1.41421356 1.73205081]\n",
      "[0.         0.69314718 1.09861229]\n"
     ]
    }
   ],
   "source": [
    "arr=np.array([1,2,3])\n",
    "print(np.exp(arr))\n",
    "print(np.sqrt(arr))\n",
    "print(np.log(arr))"
   ]
  },
  {
   "cell_type": "code",
   "execution_count": 38,
   "id": "a47c3633",
   "metadata": {},
   "outputs": [
    {
     "name": "stdout",
     "output_type": "stream",
     "text": [
      "Sum is: 6\n",
      "Mean is: 2.0\n",
      "Standard Deviation is: 0.816496580927726\n",
      "Max is: 3\n",
      "Min is: 1\n"
     ]
    }
   ],
   "source": [
    "print(\"Sum is:\",np.sum(arr))\n",
    "print(\"Mean is:\",np.mean(arr))\n",
    "print(\"Standard Deviation is:\",np.std(arr))\n",
    "print(\"Max is:\",np.max(arr))\n",
    "print(\"Min is:\",np.min(arr))\n",
    "\n",
    "\n",
    "\n",
    "\n"
   ]
  },
  {
   "cell_type": "code",
   "execution_count": 39,
   "id": "0345cc56",
   "metadata": {},
   "outputs": [
    {
     "name": "stdout",
     "output_type": "stream",
     "text": [
      "[[1 2 3]\n",
      " [4 5 6]]\n"
     ]
    }
   ],
   "source": [
    "arr=np.array([1,2,3,4,5,6])\n",
    "reshaped=arr.reshape(2,3)\n",
    "print(reshaped)"
   ]
  },
  {
   "cell_type": "code",
   "execution_count": 41,
   "id": "562e85c8",
   "metadata": {},
   "outputs": [
    {
     "name": "stdout",
     "output_type": "stream",
     "text": [
      "[[1 2 3]\n",
      " [2 3 4]]\n",
      "[1 2 3 2 3 4]\n"
     ]
    }
   ],
   "source": [
    "A=np.array([1,2,3])\n",
    "B=np.array([2,3,4])\n",
    "print(np.vstack((A,B)))\n",
    "print(np.hstack((A,B)))"
   ]
  },
  {
   "cell_type": "code",
   "execution_count": 42,
   "id": "842ea765",
   "metadata": {},
   "outputs": [
    {
     "name": "stdout",
     "output_type": "stream",
     "text": [
      "[array([1, 2]), array([3, 3]), array([4, 4])]\n"
     ]
    }
   ],
   "source": [
    "arr=np.array([1,2,3,3,4,4])\n",
    "print(np.array_split(arr,3))"
   ]
  },
  {
   "cell_type": "code",
   "execution_count": 43,
   "id": "2384ca04",
   "metadata": {},
   "outputs": [
    {
     "name": "stdout",
     "output_type": "stream",
     "text": [
      "[10  2  3  4]\n",
      "[1 2 3 4]\n"
     ]
    }
   ],
   "source": [
    "Array=np.array([1,2,3,4])\n",
    "view=Array.view()\n",
    "view[0]=10\n",
    "print(Array)\n",
    "arr=np.array([1,2,3,4])\n",
    "cp=arr.copy()\n",
    "cp[0]=100\n",
    "print(arr)"
   ]
  },
  {
   "cell_type": "code",
   "execution_count": 45,
   "id": "4679114f",
   "metadata": {},
   "outputs": [
    {
     "name": "stdout",
     "output_type": "stream",
     "text": [
      "[[1 2 3]\n",
      " [4 5 6]]\n"
     ]
    }
   ],
   "source": [
    "np.save('arr.npy',Array)\n",
    "loaded_arr=np.load('arr.npy')\n",
    "print(loaded_arr)"
   ]
  },
  {
   "cell_type": "code",
   "execution_count": null,
   "id": "a36a6d28",
   "metadata": {},
   "outputs": [],
   "source": []
  }
 ],
 "metadata": {
  "kernelspec": {
   "display_name": "Python 3 (ipykernel)",
   "language": "python",
   "name": "python3"
  },
  "language_info": {
   "codemirror_mode": {
    "name": "ipython",
    "version": 3
   },
   "file_extension": ".py",
   "mimetype": "text/x-python",
   "name": "python",
   "nbconvert_exporter": "python",
   "pygments_lexer": "ipython3",
   "version": "3.11.5"
  }
 },
 "nbformat": 4,
 "nbformat_minor": 5
}
