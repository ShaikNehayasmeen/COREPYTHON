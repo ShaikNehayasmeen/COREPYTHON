{
 "cells": [
  {
   "cell_type": "code",
   "execution_count": 2,
   "id": "7cf1531d-25ec-4301-bcf4-492d7374dcaa",
   "metadata": {},
   "outputs": [],
   "source": [
    "import numpy as np"
   ]
  },
  {
   "cell_type": "code",
   "execution_count": 3,
   "id": "9583cbcd-05c4-4ce3-b60e-4258eb4b2301",
   "metadata": {},
   "outputs": [
    {
     "name": "stdout",
     "output_type": "stream",
     "text": [
      "[10 11 12 13 14 15 16 17 18 19 20 21 22 23 24 25 26 27 28 29 30 31 32 33\n",
      " 34 35 36 37 38 39 40 41 42 43 44 45 46 47 48 49 50]\n",
      "[[0.35876386 0.18655858 0.21450632]\n",
      " [0.31883554 0.13556586 0.42486606]\n",
      " [0.80718903 0.43408672 0.92299422]]\n"
     ]
    }
   ],
   "source": [
    "arr_1dimensional= np.arange(10, 51)\n",
    "print(arr_1dimensional)\n",
    "arr_3x3 = np.random.rand(3, 3)\n",
    "print(arr_3x3)"
   ]
  },
  {
   "cell_type": "code",
   "execution_count": 4,
   "id": "b7fce436-ca38-44bf-ac5d-8404acdef06e",
   "metadata": {},
   "outputs": [
    {
     "name": "stdout",
     "output_type": "stream",
     "text": [
      "Shape, Size, DataType of 1D: (41,) 41 int32\n",
      "Shape, Size, DataType of 3x3: (3, 3) 9 float64\n"
     ]
    }
   ],
   "source": [
    "shape_1d, size_1d, dtype_1d = arr_1d.shape, arr_1d.size, arr_1d.dtype\n",
    "shape_3x3, size_3x3, dtype_3x3 = arr_3x3.shape, arr_3x3.size, arr_3x3.dtype\n",
    "print(\"Shape, Size, DataType of 1D:\", shape_1d, size_1d, dtype_1d)\n",
    "print(\"Shape, Size, DataType of 3x3:\", shape_3x3, size_3x3, dtype_3x3)\n"
   ]
  },
  {
   "cell_type": "code",
   "execution_count": 5,
   "id": "07291a80-ab13-4f71-b71f-f97826188bca",
   "metadata": {},
   "outputs": [
    {
     "name": "stdout",
     "output_type": "stream",
     "text": [
      "Array +5: [15 16 17 18 19 20 21 22 23 24 25 26 27 28 29 30 31 32 33 34 35 36 37 38\n",
      " 39 40 41 42 43 44 45 46 47 48 49 50 51 52 53 54 55]\n",
      "Element-wise Multiplication:\n",
      " [[0.18244566 0.59783682 0.54300911]\n",
      " [0.03408235 0.09736858 0.06981644]\n",
      " [0.0700479  0.08533001 0.07666902]]\n"
     ]
    }
   ],
   "source": [
    "arr_1d_plus_5 = arr_1d + 5\n",
    "arr_2d_1 = np.random.rand(3, 3)\n",
    "arr_2d_2 = np.random.rand(3, 3)\n",
    "arr_2d_mult = arr_2d_1 * arr_2d_2\n",
    "print(\"Array +5:\", arr_1d_plus_5)\n",
    "print(\"Element-wise Multiplication:\\n\", arr_2d_mult)"
   ]
  },
  {
   "cell_type": "code",
   "execution_count": 6,
   "id": "8de71b1f-ee6d-4a58-9b3f-5c45e5d04cf9",
   "metadata": {},
   "outputs": [
    {
     "name": "stdout",
     "output_type": "stream",
     "text": [
      "First row: [1 2 3 4 5]\n",
      "Last column: [ 5 10 15 20 25]\n",
      "Subarray:\n",
      " [[ 1  2]\n",
      " [ 6  7]\n",
      " [11 12]]\n"
     ]
    }
   ],
   "source": [
    "arr_5x5 = np.arange(1, 26).reshape(5, 5)\n",
    "first_row = arr_5x5[0, :]\n",
    "last_column = arr_5x5[:, -1]\n",
    "subarray = arr_5x5[:3, :2]\n",
    "print(\"First row:\", first_row)\n",
    "print(\"Last column:\", last_column)\n",
    "print(\"Subarray:\\n\", subarray)"
   ]
  },
  {
   "cell_type": "code",
   "execution_count": 7,
   "id": "ee921b11-226d-4a45-b74f-e04beed3498b",
   "metadata": {},
   "outputs": [
    {
     "name": "stdout",
     "output_type": "stream",
     "text": [
      "Max, Min, Mean, Std: 90 2 40.1 30.99822575567834\n"
     ]
    }
   ],
   "source": [
    "arr_10 = np.random.randint(1, 101, 10)\n",
    "max_val = np.max(arr_10)\n",
    "min_val = np.min(arr_10)\n",
    "mean_val = np.mean(arr_10)\n",
    "std_dev = np.std(arr_10)\n",
    "print(\"Max, Min, Mean, Std:\", max_val, min_val, mean_val, std_dev)"
   ]
  },
  {
   "cell_type": "code",
   "execution_count": 8,
   "id": "66f43333-2c07-458d-ac52-d2577b3e7309",
   "metadata": {},
   "outputs": [
    {
     "name": "stdout",
     "output_type": "stream",
     "text": [
      "Reshaped 3x4:\n",
      " [[ 1  2  3  4]\n",
      " [ 5  6  7  8]\n",
      " [ 9 10 11 12]]\n"
     ]
    }
   ],
   "source": [
    "arr_1d_to_3x4 = np.arange(1, 13).reshape(3, 4)\n",
    "print(\"Reshaped 3x4:\\n\", arr_1d_to_3x4)"
   ]
  },
  {
   "cell_type": "code",
   "execution_count": 9,
   "id": "346f7b88-6d14-4d8b-a258-6a755aa9f8db",
   "metadata": {},
   "outputs": [
    {
     "name": "stdout",
     "output_type": "stream",
     "text": [
      "Broadcasted Matrix:\n",
      " [[2. 3. 4.]\n",
      " [2. 3. 4.]\n",
      " [2. 3. 4.]]\n"
     ]
    }
   ],
   "source": [
    "arr_ones = np.ones((3, 3))\n",
    "arr_broadcasted = arr_ones + np.array([1, 2, 3])\n",
    "print(\"Broadcasted Matrix:\\n\", arr_broadcasted)"
   ]
  },
  {
   "cell_type": "code",
   "execution_count": 10,
   "id": "ed1cd805-1f61-42cc-8ef0-1b8508640e17",
   "metadata": {},
   "outputs": [
    {
     "name": "stdout",
     "output_type": "stream",
     "text": [
      "Filtered (Divisible by 5): [50]\n"
     ]
    }
   ],
   "source": [
    "arr_rand = np.random.randint(1, 51, 10)\n",
    "filtered_arr = arr_rand[arr_rand % 5 == 0]\n",
    "print(\"Filtered (Divisible by 5):\", filtered_arr)"
   ]
  },
  {
   "cell_type": "code",
   "execution_count": 11,
   "id": "050cf97d-80f3-426c-b24e-4ec1b8a53595",
   "metadata": {},
   "outputs": [
    {
     "name": "stdout",
     "output_type": "stream",
     "text": [
      "Matrix Multiplication:\n",
      " [[ 44  37]\n",
      " [153 144]]\n"
     ]
    }
   ],
   "source": [
    "matrix_1 = np.random.randint(1, 10, (2, 2))\n",
    "matrix_2 = np.random.randint(1, 10, (2, 2))\n",
    "matrix_mult = np.dot(matrix_1, matrix_2)\n",
    "print(\"Matrix Multiplication:\\n\", matrix_mult)"
   ]
  },
  {
   "cell_type": "code",
   "execution_count": 12,
   "id": "6697bc2d-8393-477f-b22c-2eb302a4f952",
   "metadata": {},
   "outputs": [
    {
     "name": "stdout",
     "output_type": "stream",
     "text": [
      "Diagonal Elements: [ 1  6 11 16]\n"
     ]
    }
   ],
   "source": [
    "arr_4x4 = np.arange(1, 17).reshape(4, 4)\n",
    "diagonal_elements = arr_4x4[[0, 1, 2, 3], [0, 1, 2, 3]]\n",
    "print(\"Diagonal Elements:\", diagonal_elements)"
   ]
  },
  {
   "cell_type": "code",
   "execution_count": null,
   "id": "6398ff2f-2ee6-420e-8160-396e677a0904",
   "metadata": {},
   "outputs": [],
   "source": []
  }
 ],
 "metadata": {
  "kernelspec": {
   "display_name": "Python 3 (ipykernel)",
   "language": "python",
   "name": "python3"
  },
  "language_info": {
   "codemirror_mode": {
    "name": "ipython",
    "version": 3
   },
   "file_extension": ".py",
   "mimetype": "text/x-python",
   "name": "python",
   "nbconvert_exporter": "python",
   "pygments_lexer": "ipython3",
   "version": "3.11.5"
  }
 },
 "nbformat": 4,
 "nbformat_minor": 5
}
